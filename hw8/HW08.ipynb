{
 "cells": [
  {
   "cell_type": "markdown",
   "metadata": {},
   "source": [
    "# Homework 8 - CS348 Spring 2019"
   ]
  },
  {
   "cell_type": "markdown",
   "metadata": {},
   "source": [
    "**Description** - In this assignment, you will analyze the statistical properties of causal graphical models, and infer the effects of interventions using observational data.\n",
    "\n",
    "**Getting Started** - You should complete the assignment using your own installation of Python 3 and the packages numpy, pandas, scipy, matplotlib, and seaborn. Download the assignment from Moodle and unzip the file. This will create a directory with this file, 'HW08.ipynb'.\n",
    "\n",
    "**Deliverables** - The assignment has a single deliverable: this jupyter notebook file saved as a pdf. Please answer all coding and writing questions in the body of this file. Once all of the answers are complete, download the file by navigating the following menus: File -> Download as -> PDF via LaTeX. Submit the downloaded pdf file on gradescope. Alternatively, you can save the file as a pdf via the following: File -> Print Preview -> Print as pdf.\n",
    "\n",
    "**Data Sets** - In this assignment, you will find one dataset in the `data` folder, `synthetic.csv`.\n",
    "\n",
    "**Academic Honesty Statement** - Copying solutions from external sources (books, web pages, etc.) or other students is considered cheating. Sharing your solutions with other students is considered cheating. Posting your code to public repositories such as GitHub is also considered cheating. Any detected cheating will result in a grade of 0 on the assignment for all students involved, and potentially a grade of F in the course. \n",
    "\n",
    "This academic honesty statement does not restrict you from reading official documentation or using other web resources for understanding the syntax of python, related data science libraries, or properties of distributions."
   ]
  },
  {
   "cell_type": "code",
   "execution_count": 1,
   "metadata": {},
   "outputs": [],
   "source": [
    "# Do not import any other libraries other than those listed here. \n",
    "import numpy as np\n",
    "import pandas as pd\n",
    "import matplotlib.pyplot as plt\n",
    "import sklearn as skl\n",
    "import seaborn as sns\n",
    "\n",
    "from sklearn.ensemble import RandomForestClassifier\n",
    "from sklearn.model_selection import cross_val_score"
   ]
  },
  {
   "cell_type": "markdown",
   "metadata": {},
   "source": [
    "# Problem 1 - Causal Graphical Models"
   ]
  },
  {
   "cell_type": "markdown",
   "metadata": {},
   "source": [
    "In this problem you will analyze the statistical implications of various causal graphical model structures. You will also implement and use binary independence tests to differentiate between several candidate causal models for a synthetic dataset."
   ]
  },
  {
   "cell_type": "markdown",
   "metadata": {},
   "source": [
    "## Part 1 (15 points)  \n",
    "Determine whether each of the following independence statements are implied by the graphical model below. For each independence statement that is not satisfied, describe one of the d-connecting path in the directed acyclic graph.\n",
    "\n",
    "$A \\perp J$ <br />\n",
    "$A \\perp C$ <br />\n",
    "$B \\perp F$ <br />\n",
    "$B \\perp F | J$ <br />\n",
    "$A \\perp C | H$  \n",
    "\n",
    "<img src=\"images/part1.png\" width=\"500\">"
   ]
  },
  {
   "cell_type": "markdown",
   "metadata": {},
   "source": [
    "### Part 1 Written Response\n",
    "\n",
    "_Type your written response here_"
   ]
  },
  {
   "cell_type": "markdown",
   "metadata": {},
   "source": [
    "## Part 2 (20 points)  \n",
    "\n",
    "Your colleague has gathered a set of observational data from a data generating process over three variable $X$, $Y$, and $Z$. They know that the data generating process can be described using one of the following four causal graphical models, but they aren't sure which one. What is the maximum number of independence tests you would need to run in order to uniquely determine which causal graphical model describes the data generating process? Describe this sequence of independence tests, as well as their implications.\n",
    "\n",
    "<table><tr>\n",
    "<td>A<img src=\"images/part2_1.png\" width=\"100\"></td>\n",
    "<td>B<img src=\"images/part2_2.png\" width=\"100\"></td>\n",
    "<td>C<img src=\"images/part2_3.png\" width=\"100\"></td>\n",
    "<td>D<img src=\"images/part2_4.png\" width=\"100\"></td>\n",
    "</tr></table>\n",
    "\n",
    "Hint: You may find it helpful to list the independence facts implied by each of the four causal graphical models."
   ]
  },
  {
   "cell_type": "markdown",
   "metadata": {},
   "source": [
    "### Part 2 Written Response\n",
    "\n",
    "_Type your written response here_"
   ]
  },
  {
   "cell_type": "markdown",
   "metadata": {},
   "source": [
    "## Part 3 (15 points)  \n",
    "Write a function `marginal_independence(data, var_1, var_2)`, which takes as input a pandas dataframe, `data`, and two strings describing the variable names of the two variables that are being tested for conditional independence, `var_1` and `var_2`. This function should return `True` if `var_1` and `var_2` are independent and `False` otherwise. Use your function on `independent_data` and `dependent_data` generated below.\n",
    "\n",
    "Note 1: Recall that two variables X and Y are marginally independent if P(Y) = P(Y|X) for all possible values of X. Rather than computing the typical statistics for hypothesis testing, for this assignment you can instead assume that the two variables are independent if |P(Y) - P(Y|X)| < 0.01.\n",
    "\n",
    "Note 2: You can assume that `data` only contains binary random variables."
   ]
  },
  {
   "cell_type": "code",
   "execution_count": 2,
   "metadata": {},
   "outputs": [],
   "source": [
    "def independent_dgp():\n",
    "    X = np.random.binomial(1, 0.5, 100000)\n",
    "    Y = np.random.binomial(1, 0.5, 100000)\n",
    "    return X, Y\n",
    "\n",
    "def dependent_dgp():\n",
    "    X = np.random.binomial(1, 0.5, 100000)\n",
    "    Y = np.random.binomial(1, 0.2 * X + 0.4, 100000)\n",
    "    return X, Y\n",
    "\n",
    "independent_data = pd.DataFrame(np.array(independent_dgp()).T, columns=[\"X\", \"Y\"])\n",
    "dependent_data = pd.DataFrame(np.array(dependent_dgp()).T, columns=[\"X\", \"Y\"])"
   ]
  },
  {
   "cell_type": "code",
   "execution_count": 3,
   "metadata": {},
   "outputs": [
    {
     "name": "stdout",
     "output_type": "stream",
     "text": [
      "None\n",
      "None\n"
     ]
    }
   ],
   "source": [
    "# Part 3 Solution\n",
    "\n",
    "# --- write code here ---\n",
    "\n",
    "def marginal_independence(data, var_1, var_2):\n",
    "    pass\n",
    "\n",
    "# This should return True\n",
    "print(marginal_independence(independent_data, \"X\", \"Y\"))\n",
    "\n",
    "# This should return False\n",
    "print(marginal_independence(dependent_data, \"X\", \"Y\"))"
   ]
  },
  {
   "cell_type": "markdown",
   "metadata": {},
   "source": [
    "## Part 4 (15 points)  \n",
    "Write a function `conditional_independence(data, var_1, var_2, cond_var)`, which takes as input a pandas dataframe, `data`, two strings describing the variable names of the two variables that are being tested for conditional independence, `var_1` and `var_2`, and one string describing the conditioning variable, `cond_var`. This function should return `True` if `var_1` and `var_2` are conditionally independent given `cond_var` and `False` otherwise. Use your function `conditionally_independent_data` and `conditionally_dependent_data` generated below.\n",
    "\n",
    "Note 1: Recall that two variables X and Y are conditionally independent given Z if P(Y|Z) = P(Y|X,Z) for all possible values of X and Z. Rather than computing the typical statistics for hypothesis testing, for this assignment you can instead assume that the two variables are independent if |P(Y|Z) - P(Y|X,Z)| < 0.01.\n",
    "\n",
    "Note 2: You can assume that `data` only contains binary random variables.\n",
    "\n",
    "Hint: While it's not necessary to complete this assignment, you may find it helpful to use your implementation of `marginal_independence` in your implementation of `conditional_independence`."
   ]
  },
  {
   "cell_type": "code",
   "execution_count": 4,
   "metadata": {},
   "outputs": [],
   "source": [
    "def conditionally_independent_dgp():\n",
    "    # X and Z are independence given Y.\n",
    "    X = np.random.binomial(1, 0.5, 100000)\n",
    "    Y = np.random.binomial(1, 0.2 * X + 0.4, 100000)\n",
    "    Z = np.random.binomial(1, 0.4 * Y + 0.3, 100000)\n",
    "    return X, Y, Z\n",
    "\n",
    "def conditionally_dependent_dgp():\n",
    "    # X and Z are dependence given Y.\n",
    "    X = np.random.binomial(1, 0.5, 100000)\n",
    "    Y = np.random.binomial(1, 0.2 * X + 0.4, 100000)\n",
    "    Z = np.random.binomial(1, 0.2 * Y + 0.3 + X * 0.2, 100000)\n",
    "    return X, Y, Z\n",
    "\n",
    "conditionally_independent_data = pd.DataFrame(np.array(conditionally_independent_dgp()).T, columns=[\"X\", \"Y\", \"Z\"])\n",
    "conditionally_dependent_data = pd.DataFrame(np.array(conditionally_dependent_dgp()).T, columns=[\"X\", \"Y\", \"Z\"])"
   ]
  },
  {
   "cell_type": "code",
   "execution_count": 5,
   "metadata": {},
   "outputs": [
    {
     "name": "stdout",
     "output_type": "stream",
     "text": [
      "None\n",
      "None\n"
     ]
    }
   ],
   "source": [
    "# Part 4 Solution\n",
    "\n",
    "# --- write code here ---\n",
    "\n",
    "def conditional_independence(data, var_1, var_2, cond_var):\n",
    "    pass\n",
    "\n",
    "# This should return True\n",
    "print(conditional_independence(conditionally_independent_data, \"X\", \"Z\", \"Y\"))\n",
    "\n",
    "# This should return False\n",
    "print(conditional_independence(conditionally_dependent_data, \"X\", \"Z\", \"Y\"))"
   ]
  },
  {
   "cell_type": "markdown",
   "metadata": {},
   "source": [
    "## Part 5 (10 points)  \n",
    "Using your implementations of `marginal_independence` and `conditional_independence` and your answer from part 2, determine which of the four causal graphical model structures corresponds to the data generating process used to produce the data in the file labeled \"synthetic.csv\" in the \"data\" folder. \n",
    "\n",
    "Note: Your solution should show the results of all of the indepedence tests you describe in part 2. Make sure that you specify which model is the correct one in your written response."
   ]
  },
  {
   "cell_type": "code",
   "execution_count": 6,
   "metadata": {},
   "outputs": [],
   "source": [
    "# Part 5 Solution\n",
    "\n",
    "data = pd.read_csv('data/synthetic.csv')\n",
    "\n",
    "# --- write code here ---\n"
   ]
  },
  {
   "cell_type": "markdown",
   "metadata": {},
   "source": [
    "### Part 5 Written Response\n",
    "\n",
    "_Type your written response here_"
   ]
  },
  {
   "cell_type": "markdown",
   "metadata": {},
   "source": [
    "# Problem 2 - Effect Estimation"
   ]
  },
  {
   "cell_type": "markdown",
   "metadata": {},
   "source": [
    "In this problem you will implement a propensity score reweighting to estimate the effect of a diamond's cut on its price."
   ]
  },
  {
   "cell_type": "code",
   "execution_count": 7,
   "metadata": {},
   "outputs": [],
   "source": [
    "data = sns.load_dataset('diamonds')\n",
    "data = data[(data['cut'] == 'Ideal') | (data['cut'] == 'Premium')]\n",
    "\n",
    "treatment = (data['cut'] == \"Ideal\") * 1\n",
    "outcome = data['price'] > 1000\n",
    "covariates = np.array(data.drop(['color', 'clarity', 'cut', 'price'], axis=1))"
   ]
  },
  {
   "cell_type": "markdown",
   "metadata": {},
   "source": [
    "## Part 1 (10 points)  \n",
    "For all values of `max_depth` between 1 and 15, train a random forest classifier to predict the value of the treatment variable in the diamonds dataset, the cut of the diamond. Your model should use scikit-learn's `RandomForestClassifier` with `n_estimators=20` and `random_state=0`. Among these models, select the model that achieves the highest 10-fold cross-validation score using the negative log loss score.\n",
    "\n",
    "Compare the score of your selected model against the negative log loss using 3 baseline models.\n",
    "\n",
    "(1) $P(cut = 1|covariates) = 1$, regardless of the value of the covariates.\n",
    "\n",
    "(2) $P(cut = 1|covariates) = 0$, regardless of the value of the covariates.\n",
    "\n",
    "(3) $P(cut = 1|covariates) = p$, regardless of the value of the covariates. $p$ is the proportion of instances in the dataset where $cut = 1$. \n"
   ]
  },
  {
   "cell_type": "code",
   "execution_count": 8,
   "metadata": {},
   "outputs": [],
   "source": [
    "# Part 1 Solution\n",
    "\n",
    "# --- write code here ---\n"
   ]
  },
  {
   "cell_type": "markdown",
   "metadata": {},
   "source": [
    "## Part 2 (15 points)  \n",
    "Using the model you selected in part 1, estimate the average treatment effect of a diamond's cut being Ideal (as opposed to Premium) on the probability that its price is greater than $1000. Compare this result to an estimate that assumes that the covariates are indepdendent of the treatment. Explain how and why these estimates differ in 3-4 sentences. Propose a hypothesis for why these two estimates differ in terms of the problem domain.\n",
    "\n",
    "Note: The data has been transformed so that both treatment and outcome are binary variables. Inspect the data processing in the cell above part 1 for details."
   ]
  },
  {
   "cell_type": "code",
   "execution_count": 9,
   "metadata": {},
   "outputs": [],
   "source": [
    "# Part 2 Solution\n",
    "\n",
    "# --- write code here ---\n"
   ]
  },
  {
   "cell_type": "markdown",
   "metadata": {},
   "source": [
    "### Part 2 Written Response\n",
    "\n",
    "_Type your written response here_\n"
   ]
  }
 ],
 "metadata": {
  "kernelspec": {
   "display_name": "Python 3",
   "language": "python",
   "name": "python3"
  },
  "language_info": {
   "codemirror_mode": {
    "name": "ipython",
    "version": 3
   },
   "file_extension": ".py",
   "mimetype": "text/x-python",
   "name": "python",
   "nbconvert_exporter": "python",
   "pygments_lexer": "ipython3",
   "version": "3.6.8"
  }
 },
 "nbformat": 4,
 "nbformat_minor": 2
}
