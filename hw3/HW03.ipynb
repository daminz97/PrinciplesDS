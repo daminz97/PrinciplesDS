{
 "cells": [
  {
   "cell_type": "markdown",
   "metadata": {},
   "source": [
    "## Homework 3 - CS348 Spring 2019"
   ]
  },
  {
   "cell_type": "markdown",
   "metadata": {},
   "source": [
    "**Description** - This assignment is intended to teach you about linear models and naive bayes using python."
   ]
  },
  {
   "cell_type": "markdown",
   "metadata": {},
   "source": [
    "**Getting Started** - You should complete the assignment using your own installation of Python 3 and the packages numpy, pandas, matplotlib, and seaborn. Download the assignment from Moodle and unzip the file. This will create a directory with this file, 'HW03.ipynb', and a 'data' directory. The data files for each data set are in the 'data' directory."
   ]
  },
  {
   "cell_type": "markdown",
   "metadata": {},
   "source": [
    "**Deliverables** - The assignment has a single deliverable: this jupyter notebook file saved as a pdf. Please answer all coding and writing questions in the body of this file. Once all of the answers are complete, download the file by navigating the following menus: File -> Download as -> PDF via LaTeX. Submit the downloaded pdf file on gradescope. Alternatively, you can save the file as a pdf via the following: File -> Print Preview -> Print as pdf.\n",
    "\n",
    "Note: You will be writing the written responses in the same cell block as the coding solution, so make sure to comment out the written responses."
   ]
  },
  {
   "cell_type": "markdown",
   "metadata": {},
   "source": [
    "**Data Sets** - In this assignment, you will run and analyze linear regression on a single synthetic dataset"
   ]
  },
  {
   "cell_type": "markdown",
   "metadata": {},
   "source": [
    "**Academic Honesty Statement** — Copying solutions from external sources (books,\n",
    "web pages, etc.) or other students is considered cheating. Sharing your solutions with\n",
    "other students is considered cheating. Posting your code to public repositories such as\n",
    "GitHub is also considered cheating. Any detected cheating will result in a grade of 0 on\n",
    "the assignment for all students involved, and potentially a grade of F in the course.\n",
    "\n",
    "This academic honesty statement does not restrict you from reading official documentation or using other web resources for understanding the syntax of python, related data science libraries, or properties of distributions."
   ]
  },
  {
   "cell_type": "code",
   "execution_count": 1,
   "metadata": {},
   "outputs": [],
   "source": [
    "# Do not import any other libraries other than those listed here. \n",
    "import numpy as np\n",
    "import pandas as pd\n",
    "import matplotlib.pyplot as plt\n",
    "import sklearn as skl\n",
    "import seaborn as sns\n",
    "\n",
    "from sklearn.linear_model import LinearRegression"
   ]
  },
  {
   "cell_type": "markdown",
   "metadata": {},
   "source": [
    "# Problem 1 - Regression"
   ]
  },
  {
   "cell_type": "markdown",
   "metadata": {},
   "source": [
    "In this problem you'll construct a linear model to analyze a synthetic dataset."
   ]
  },
  {
   "cell_type": "code",
   "execution_count": 2,
   "metadata": {},
   "outputs": [],
   "source": [
    "# Load the data\n",
    "x_train = np.loadtxt('data/x_train.csv', delimiter=',')\n",
    "x_val = np.loadtxt('data/x_val.csv', delimiter=',')\n",
    "y_train = np.loadtxt('data/y_train.csv', delimiter=',')\n",
    "y_val = np.loadtxt('data/y_val.csv', delimiter=',')"
   ]
  },
  {
   "cell_type": "markdown",
   "metadata": {},
   "source": [
    "**Part 1** (16 points)  \n",
    "Using sci-kit learn's `LinearRegression` class, fit a linear regression model between features `x_train` and targets `y_train`. Using this model, produce a new array `y_train_res` which contains the residuals of the learned linear model corresponding to each row in the training dataset."
   ]
  },
  {
   "cell_type": "code",
   "execution_count": 3,
   "metadata": {},
   "outputs": [],
   "source": [
    "# Part 1 Solution\n",
    "\n",
    "# --- write code here ---\n"
   ]
  },
  {
   "cell_type": "markdown",
   "metadata": {},
   "source": [
    "**Part 2** (16 points)  \n",
    "Without using `LinearRegression`'s `score()` method or `sklearn.metrics.r2_score`, compute the R-squared value for the trained model. Does this result imply that the linear regression assumptions are satisfied? Why or why not? Would your answer change if the R-squared were larger?"
   ]
  },
  {
   "cell_type": "code",
   "execution_count": 4,
   "metadata": {},
   "outputs": [],
   "source": [
    "# Part 2 Solution\n",
    "\n",
    "# --- write code here ---\n",
    "\n",
    "# --- written response here ---\n",
    "# \n",
    "# "
   ]
  },
  {
   "cell_type": "markdown",
   "metadata": {},
   "source": [
    "Based on their knowledge of the data generating process, your colleague suggests that a multiple linear regression may be an inappropriate method for analyzing this data. They instead suggest the conditional model `y = B_1 * x_1 + B_2 * f(x_2) + error`, where `y` is the outcome, `B_1` and `B_2` are parameters of the DGP, `x_1` and `x_2` are the first and second column of the dataset, `f()` is some non-linear function, and `error` is some random variable with 0 mean and constant variance."
   ]
  },
  {
   "cell_type": "markdown",
   "metadata": {},
   "source": [
    "**Part 3** (10 points)  \n",
    "Make a residual plot with x_2 on the horizontal axis. Using this residual plot, describe any supporting evidence for your colleague's assumptions about the DGP.\n",
    "\n",
    "Note: Recall the python/pandas is 0-indexed. Therefore, x_2 corresponds to `x_train[:, 1]`."
   ]
  },
  {
   "cell_type": "code",
   "execution_count": 5,
   "metadata": {},
   "outputs": [],
   "source": [
    "# Part 3 Solution\n",
    "\n",
    "# --- write code here ---\n",
    "\n",
    "\n",
    "# --- written response here ---\n",
    "# \n",
    "# "
   ]
  },
  {
   "cell_type": "markdown",
   "metadata": {},
   "source": [
    "**Part 4** (30 points)  \n",
    "Using your analysis in parts 1-3 as a guide, determine which of the following functions best represent `f()` in your colleague's conditional model.\n",
    "\n",
    "`f(x) = ln(x)`  \n",
    "`f(x) = exp(x)`  \n",
    "`f(x) = x**2`  \n",
    "`f(x) = x**0.5`  \n",
    "\n",
    "In your code solution, you should show the R-squared value on your training data for a simple linear regression after using each of these non-linear transformations, as well as the residual plot for the one function you have selected. Using these sources of evidence, explain why you made your selection between the 4 transformations."
   ]
  },
  {
   "cell_type": "code",
   "execution_count": 6,
   "metadata": {},
   "outputs": [],
   "source": [
    "# Part 4 Solution\n",
    "\n",
    "# --- write code here ---\n",
    "\n",
    "\n",
    "# --- written response here ---\n",
    "# \n",
    "# "
   ]
  },
  {
   "cell_type": "markdown",
   "metadata": {},
   "source": [
    "**Part 5** (10 points)  \n",
    "Evaluate the R-squared values on `x_val` and `y_val` for both the original linear model in part 1 and the selected model in part 4. Describe how and why these results differ from the evaluation results in part 1 and part 4. \n",
    "\n",
    "Note: Make sure that whatever transformation you apply to the training data in part 4 is also applied to the validation data before evaluating the linear regression model. These models should be trained using only the training data, and then evaluated using only the validation data."
   ]
  },
  {
   "cell_type": "code",
   "execution_count": 7,
   "metadata": {},
   "outputs": [],
   "source": [
    "# Part 5 Solution\n",
    "\n",
    "# --- write code here ---\n",
    "\n",
    "\n",
    "# --- written response here ---\n",
    "# \n",
    "# "
   ]
  },
  {
   "cell_type": "markdown",
   "metadata": {},
   "source": [
    "**Part 6** (18 points)\n",
    "Make a new residual plot using `x_1` (i.e. `x_train[:, 0]`) with your selected model from part 4. What does this imply about the assumptions in our regression model? Write and describe the equation for a conditional model similar to your colleagues that adjusts for this new finding."
   ]
  },
  {
   "cell_type": "code",
   "execution_count": 8,
   "metadata": {},
   "outputs": [],
   "source": [
    "# Part 6 Solution\n",
    "\n",
    "# --- write code here ---\n",
    "\n",
    "\n",
    "# --- written response here ---\n",
    "# \n",
    "# "
   ]
  }
 ],
 "metadata": {
  "kernelspec": {
   "display_name": "Python 3",
   "language": "python",
   "name": "python3"
  },
  "language_info": {
   "codemirror_mode": {
    "name": "ipython",
    "version": 3
   },
   "file_extension": ".py",
   "mimetype": "text/x-python",
   "name": "python",
   "nbconvert_exporter": "python",
   "pygments_lexer": "ipython3",
   "version": "3.6.8"
  }
 },
 "nbformat": 4,
 "nbformat_minor": 2
}
