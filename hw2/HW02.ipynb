{
 "cells": [
  {
   "cell_type": "markdown",
   "metadata": {},
   "source": [
    "## Homework 2 - CS348 Spring 2019"
   ]
  },
  {
   "cell_type": "markdown",
   "metadata": {},
   "source": [
    "**Description** - This assignment is intended to teach you about exploratory data analysis using python and common data science visualization libraries."
   ]
  },
  {
   "cell_type": "markdown",
   "metadata": {},
   "source": [
    "**Getting Started** - You should complete the assignment using your own installation of Python 3 and the packages numpy, pandas, matplotlib, and seaborn. Download the assignment from Moodle and unzip the file. This will create a directory with this file, 'HW02.ipynb', and a 'data' directory. The data files for each data set are in the 'data' directory.\n",
    "\n",
    "Note: You may need to install the seaborn visualization library. To do this run `conda install seaborn` or `pip install seaborn` in your terminal."
   ]
  },
  {
   "cell_type": "markdown",
   "metadata": {},
   "source": [
    "**Deliverables** - The assignment has a single deliverable: this jupyter notebook file saved as a pdf. Please answer all coding and writing questions in the body of this file. Once all of the answers are complete, download the file by navigating the following menus: File -> Download as -> PDF via LaTeX. Submit the downloaded pdf file on gradescope.\n",
    "\n",
    "Note: You will be writing the written repsonses in the same cell block as the coding solution, so make sure to comment out the written responses."
   ]
  },
  {
   "cell_type": "markdown",
   "metadata": {},
   "source": [
    "**Data Sets** - In this assignment, you will conduct an exploratory data analysis on 2 datasets. The first dataset, 'flights', is imported for you from the seaborn library."
   ]
  },
  {
   "cell_type": "markdown",
   "metadata": {},
   "source": [
    "**Academic Honesty Statement** — Copying solutions from external sources (books,\n",
    "web pages, etc.) or other students is considered cheating. Sharing your solutions with\n",
    "other students is considered cheating. Posting your code to public repositories such as\n",
    "GitHub is also considered cheating. Any detected cheating will result in a grade of 0 on\n",
    "the assignment for all students involved, and potentially a grade of F in the course.\n",
    "\n",
    "This academic honesty statement does not restrict you from reading official documentation or using other web resources for understanding the syntax of python, related data science libraries, or properties of distributions."
   ]
  },
  {
   "cell_type": "code",
   "execution_count": 1,
   "metadata": {},
   "outputs": [],
   "source": [
    "# Do not import any other libraries other than those listed here. \n",
    "import numpy as np\n",
    "import pandas as pd\n",
    "import matplotlib.pyplot as plt\n",
    "import seaborn as sns"
   ]
  },
  {
   "cell_type": "markdown",
   "metadata": {},
   "source": [
    "# Problem 1 - Flights Dataset"
   ]
  },
  {
   "cell_type": "markdown",
   "metadata": {},
   "source": [
    "In this problem you'll analyze a dataset of the monthly number of passengers on US flights from the years 1949 - 1960."
   ]
  },
  {
   "cell_type": "markdown",
   "metadata": {},
   "source": [
    "**Part 1** (3 points)  \n",
    "Load the 'flights' dataset as a pandas DataFrame and print the first 10 rows of data."
   ]
  },
  {
   "cell_type": "code",
   "execution_count": 2,
   "metadata": {},
   "outputs": [],
   "source": [
    "# Part 1 Solution\n",
    "\n",
    "# --- write code here ---\n"
   ]
  },
  {
   "cell_type": "markdown",
   "metadata": {},
   "source": [
    "**Part 2** (12 points)  \n",
    "Plot a histogram of the number of montly passengers traveling during the summer months. Summer months include June, July, and August. Does the histogram resemble a normal distribution? Provide two justifications for your answer."
   ]
  },
  {
   "cell_type": "code",
   "execution_count": 3,
   "metadata": {},
   "outputs": [],
   "source": [
    "# Part 2 Solution\n",
    "\n",
    "# --- write code here ---\n",
    "\n",
    "\n",
    "# --- written response here ---\n",
    "# \n",
    "# "
   ]
  },
  {
   "cell_type": "markdown",
   "metadata": {},
   "source": [
    "**Part 3** (12 points)  \n",
    "Make a timeseries plot using `sns.lineplot()`. Using this plot, answer the following question: are the rows in the dataset independent and identically distributed (IID)? Why or why not?"
   ]
  },
  {
   "cell_type": "code",
   "execution_count": 4,
   "metadata": {},
   "outputs": [],
   "source": [
    "# Part 3 Solution\n",
    "\n",
    "# --- write code here ---\n",
    "\n",
    "# --- written response here ---\n",
    "#\n",
    "# "
   ]
  },
  {
   "cell_type": "markdown",
   "metadata": {},
   "source": [
    "**Part 4** (20 points)\n",
    "Your colleague is trying to predict the total number of passengers who flew in June 1961, one year after the end of the flights dataset. They notice that the average difference between the number of passengers in June and the number passengers in January is 69.92 from 1949 - 1960. Given that they know that 450 passengers flew in January 1961, they predict that there will be 520 passengers flying in June 1961.\n",
    "\n",
    "Is this a good estimate for the number of passengers flying in June 1961? If not, do you expect it to over- or under-estimate the actual number of passengers? Explain your answer."
   ]
  },
  {
   "cell_type": "code",
   "execution_count": 5,
   "metadata": {},
   "outputs": [],
   "source": [
    "# Part 3 Solution\n",
    "\n",
    "# --- written response here ---\n",
    "#\n",
    "# "
   ]
  },
  {
   "cell_type": "markdown",
   "metadata": {},
   "source": [
    "# Problem 2 - Synthetic Data"
   ]
  },
  {
   "cell_type": "markdown",
   "metadata": {},
   "source": [
    "In this problem you'll be asked to analyze a synthetic dataset of four variables."
   ]
  },
  {
   "cell_type": "markdown",
   "metadata": {},
   "source": [
    "**Part 1** (3 points)  \n",
    "Load the 'synthetic' data as a pandas dataframe and print the first 10 rows."
   ]
  },
  {
   "cell_type": "code",
   "execution_count": 6,
   "metadata": {},
   "outputs": [],
   "source": [
    "# Part 1 Solution\n",
    "\n",
    "# --- write code here ---\n"
   ]
  },
  {
   "cell_type": "markdown",
   "metadata": {},
   "source": [
    "**Part 2** (6 points)  \n",
    "Use `sns.pairplot()` to make a pairplot of the synthetic dataset. Use colors and/or symbols to visualize the relationship between the categorical and ordinal variables."
   ]
  },
  {
   "cell_type": "code",
   "execution_count": 7,
   "metadata": {},
   "outputs": [],
   "source": [
    "# Part 2 Solution\n",
    "\n",
    "# --- write code here ---\n"
   ]
  },
  {
   "cell_type": "markdown",
   "metadata": {},
   "source": [
    "**Part 3** (10 points)  \n",
    "For variables a, b, c, and d determine whether its marginal distribution is uniform or normal. Explain your answers.\n",
    "\n",
    "Hint: Be careful about the `diag_kind` parameter in `sns.lineplot`. The default behaviour is to use a smoothed estimate of the probability density that can sometimes be misleading. None of the marginal distributions are a mixture of normal distributions."
   ]
  },
  {
   "cell_type": "code",
   "execution_count": 8,
   "metadata": {},
   "outputs": [],
   "source": [
    "# Part 3 solution\n",
    "\n",
    "# --- written response here ---\n",
    "# \n",
    "# "
   ]
  },
  {
   "cell_type": "markdown",
   "metadata": {},
   "source": [
    "**Part 4** (10 points)  \n",
    "For all pairs of variables (a-b, a-c, etc.) in the synthetic dataset, determine if the two variables are marginally independent. Explain your answers.\n",
    "\n",
    "Reminder: A random variable X is marginally independent of another random variable Y if knowledge of X does not change the distribution of Y. In other words, X and Y are marginally independent if P(X,Y) = P(X)P(Y) or equivalently P(Y|X) = P(Y)."
   ]
  },
  {
   "cell_type": "code",
   "execution_count": 9,
   "metadata": {},
   "outputs": [],
   "source": [
    "# Part 4 solution\n",
    "\n",
    "# --- written response here ---\n",
    "# \n",
    "# "
   ]
  },
  {
   "cell_type": "markdown",
   "metadata": {},
   "source": [
    "**Part 5** (12 points)  \n",
    "There are 2 outliers in the synthetic dataset. Is it possible to identify these outliers using only the marginal distributions for each of the 4 variables? Why or why not?"
   ]
  },
  {
   "cell_type": "code",
   "execution_count": 10,
   "metadata": {},
   "outputs": [],
   "source": [
    "# Part 5 solution\n",
    "\n",
    "# --- written response here ---\n",
    "# \n",
    "# "
   ]
  },
  {
   "cell_type": "markdown",
   "metadata": {},
   "source": [
    "**Part 6** (12 points)  \n",
    "Given your answer to part 5, is it plausible to detect outliers using only visualizations when your dataset contains 1000 columns? Why or why not?"
   ]
  },
  {
   "cell_type": "code",
   "execution_count": 11,
   "metadata": {},
   "outputs": [],
   "source": [
    "# Part 6 solution\n",
    "\n",
    "# --- written response here ---\n",
    "# \n",
    "# "
   ]
  }
 ],
 "metadata": {
  "kernelspec": {
   "display_name": "Python 3",
   "language": "python",
   "name": "python3"
  },
  "language_info": {
   "codemirror_mode": {
    "name": "ipython",
    "version": 3
   },
   "file_extension": ".py",
   "mimetype": "text/x-python",
   "name": "python",
   "nbconvert_exporter": "python",
   "pygments_lexer": "ipython3",
   "version": "3.6.8"
  }
 },
 "nbformat": 4,
 "nbformat_minor": 2
}
